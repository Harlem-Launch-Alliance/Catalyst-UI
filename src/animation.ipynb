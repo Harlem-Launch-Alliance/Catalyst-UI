{
 "cells": [
  {
   "cell_type": "code",
   "execution_count": null,
   "metadata": {},
   "outputs": [],
   "source": [
    "import serial\n",
    "import connectSerial\n",
    "\n",
    "import matplotlib.pyplot as plt\n",
    "import numpy\n",
    "from matplotlib.animation import FuncAnimation\n",
    "\n",
    "fig = plt.figure();\n",
    "axis = fig.add_subplot(1,1,1)\n",
    "\n",
    "def animate():\n",
    "    if(serialPort.in_waiting > 0):\n",
    "        # Read data out of the buffer until a carraige return / new line is found\n",
    "        serialString = serialPort.readline()\n",
    "        #translate binary to text\n",
    "        dataValue = serialString.decode('Ascii')\n",
    "        #splits string into array based on spaces\n",
    "        dataArray = dataValue.split()\n",
    "\n",
    "        "
   ]
  }
 ],
 "metadata": {
  "language_info": {
   "name": "python"
  },
  "orig_nbformat": 4
 },
 "nbformat": 4,
 "nbformat_minor": 2
}
