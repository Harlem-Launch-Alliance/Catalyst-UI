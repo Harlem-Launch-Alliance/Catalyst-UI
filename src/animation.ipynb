{
 "cells": [
  {
   "cell_type": "code",
   "execution_count": null,
   "metadata": {},
   "outputs": [],
   "source": [
    "import serial\n",
    "import connectSerial\n",
    "\n",
    "import matplotlib.pyplot as plt\n",
    "import numpy\n",
    "from matplotlib.animation import FuncAnimation\n",
    "\n",
    "fig = plt.figure();\n",
    "axis = fig.add_subplot(1,1,1)\n",
    "\n",
    "alt_x = []\n",
    "alt_y = []\n",
    "\n",
    "def handle_altitude(dataArray):\n",
    "    altitude = dataArray[3]\n",
    "    alt_y.append(altitude)\n",
    "    print(f\"Altitude (m): {altitude}\")\n",
    "    \n",
    "    \n",
    "    currentTime = datetime.now()\n",
    "    alt_x.append(currentTime)\n",
    "    print(f\"Current time: {currentTime}\")\n",
    "\n",
    "def animate():\n",
    "    if(serialPort.in_waiting > 0):\n",
    "        # Read data out of the buffer until a carraige return / new line is found\n",
    "        serialString = serialPort.readline()\n",
    "        #translate binary to text\n",
    "        dataValue = serialString.decode('Ascii')\n",
    "        #splits string into array based on spaces\n",
    "        dataArray = dataValue.split()\n",
    "\n",
    "    handle_altitude(dataArray)\n",
    "    axis.clear()\n",
    "    axis.plot(alt_x, alt_y)\n",
    "\n",
    "ani = animation.FuncAnimation(fig, animate, fargs=(alt_x, alt_y), interval=500)\n",
    "plt.show()\n",
    "\n",
    "\n",
    "\n"
   ]
  }
 ],
 "metadata": {
  "language_info": {
   "name": "python"
  },
  "orig_nbformat": 4
 },
 "nbformat": 4,
 "nbformat_minor": 2
}
